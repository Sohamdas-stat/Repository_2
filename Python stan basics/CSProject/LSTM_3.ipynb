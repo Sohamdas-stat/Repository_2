{
 "cells": [
  {
   "cell_type": "code",
   "execution_count": 1,
   "id": "e48a6383",
   "metadata": {},
   "outputs": [],
   "source": [
    "import numpy as np\n",
    "import pandas as pd\n",
    "from keras.models import Sequential\n",
    "from keras.layers import LSTM, Dense\n",
    "from sklearn.model_selection import train_test_split\n",
    "from sklearn.preprocessing import MinMaxScaler\n",
    "import os\n",
    "import time"
   ]
  },
  {
   "cell_type": "code",
   "execution_count": 2,
   "id": "c075b88c",
   "metadata": {},
   "outputs": [
    {
     "name": "stdout",
     "output_type": "stream",
     "text": [
      "Total no. of train EEG files 17300\n"
     ]
    }
   ],
   "source": [
    "# Step 1: Data Preprocessing\n",
    "project_path = '/Users/sohamdas/Desktop/EECS 545/Project'\n",
    "data_path = project_path + '/data'\n",
    "train_eeg_path = data_path + '/train_eegs'\n",
    "eeg_file_list = os.listdir(train_eeg_path)\n",
    "print('Total no. of train EEG files',len(eeg_file_list))"
   ]
  },
  {
   "cell_type": "code",
   "execution_count": 3,
   "id": "dc0fbf03",
   "metadata": {},
   "outputs": [],
   "source": [
    "# for the whole dataset\n",
    "#record_times = []\n",
    "#for i in range(len(eeg_file_list)):\n",
    "#    filename = eeg_file_list[i]\n",
    "#    df = pd.read_parquet(train_eeg_path + '/' + filename)\n",
    "#    record_times.append(df.shape[0])\n",
    "#print(min(record_times), max(record_times))"
   ]
  },
  {
   "cell_type": "code",
   "execution_count": 4,
   "id": "39d4310c",
   "metadata": {},
   "outputs": [
    {
     "data": {
      "text/plain": [
       "20"
      ]
     },
     "execution_count": 4,
     "metadata": {},
     "output_type": "execute_result"
    }
   ],
   "source": [
    "# just a subset of 20 samples\n",
    "short_file_list = eeg_file_list[:20]\n",
    "\n",
    "record_times = []\n",
    "for i in range(len(short_file_list)):\n",
    "    filename = short_file_list[i]\n",
    "    df = pd.read_parquet(train_eeg_path + '/' + filename)\n",
    "    record_times.append(df.shape[0])\n",
    "\n",
    "min_time = min(record_times)\n",
    "n_graphs = df.shape[1]\n",
    "n_samples = len(short_file_list)\n",
    "n_samples"
   ]
  },
  {
   "cell_type": "code",
   "execution_count": 5,
   "id": "6f6abfe6",
   "metadata": {},
   "outputs": [
    {
     "data": {
      "text/html": [
       "<div>\n",
       "<style scoped>\n",
       "    .dataframe tbody tr th:only-of-type {\n",
       "        vertical-align: middle;\n",
       "    }\n",
       "\n",
       "    .dataframe tbody tr th {\n",
       "        vertical-align: top;\n",
       "    }\n",
       "\n",
       "    .dataframe thead th {\n",
       "        text-align: right;\n",
       "    }\n",
       "</style>\n",
       "<table border=\"1\" class=\"dataframe\">\n",
       "  <thead>\n",
       "    <tr style=\"text-align: right;\">\n",
       "      <th></th>\n",
       "      <th>eeg_id</th>\n",
       "      <th>eeg_sub_id</th>\n",
       "      <th>eeg_label_offset_seconds</th>\n",
       "      <th>spectrogram_id</th>\n",
       "      <th>spectrogram_sub_id</th>\n",
       "      <th>spectrogram_label_offset_seconds</th>\n",
       "      <th>label_id</th>\n",
       "      <th>patient_id</th>\n",
       "      <th>expert_consensus</th>\n",
       "      <th>seizure_vote</th>\n",
       "      <th>lpd_vote</th>\n",
       "      <th>gpd_vote</th>\n",
       "      <th>lrda_vote</th>\n",
       "      <th>grda_vote</th>\n",
       "      <th>other_vote</th>\n",
       "    </tr>\n",
       "  </thead>\n",
       "  <tbody>\n",
       "    <tr>\n",
       "      <th>0</th>\n",
       "      <td>1628180742</td>\n",
       "      <td>0</td>\n",
       "      <td>0.0</td>\n",
       "      <td>353733</td>\n",
       "      <td>0</td>\n",
       "      <td>0.0</td>\n",
       "      <td>127492639</td>\n",
       "      <td>42516</td>\n",
       "      <td>Seizure</td>\n",
       "      <td>3</td>\n",
       "      <td>0</td>\n",
       "      <td>0</td>\n",
       "      <td>0</td>\n",
       "      <td>0</td>\n",
       "      <td>0</td>\n",
       "    </tr>\n",
       "    <tr>\n",
       "      <th>1</th>\n",
       "      <td>1628180742</td>\n",
       "      <td>1</td>\n",
       "      <td>6.0</td>\n",
       "      <td>353733</td>\n",
       "      <td>1</td>\n",
       "      <td>6.0</td>\n",
       "      <td>3887563113</td>\n",
       "      <td>42516</td>\n",
       "      <td>Seizure</td>\n",
       "      <td>3</td>\n",
       "      <td>0</td>\n",
       "      <td>0</td>\n",
       "      <td>0</td>\n",
       "      <td>0</td>\n",
       "      <td>0</td>\n",
       "    </tr>\n",
       "    <tr>\n",
       "      <th>2</th>\n",
       "      <td>1628180742</td>\n",
       "      <td>2</td>\n",
       "      <td>8.0</td>\n",
       "      <td>353733</td>\n",
       "      <td>2</td>\n",
       "      <td>8.0</td>\n",
       "      <td>1142670488</td>\n",
       "      <td>42516</td>\n",
       "      <td>Seizure</td>\n",
       "      <td>3</td>\n",
       "      <td>0</td>\n",
       "      <td>0</td>\n",
       "      <td>0</td>\n",
       "      <td>0</td>\n",
       "      <td>0</td>\n",
       "    </tr>\n",
       "    <tr>\n",
       "      <th>3</th>\n",
       "      <td>1628180742</td>\n",
       "      <td>3</td>\n",
       "      <td>18.0</td>\n",
       "      <td>353733</td>\n",
       "      <td>3</td>\n",
       "      <td>18.0</td>\n",
       "      <td>2718991173</td>\n",
       "      <td>42516</td>\n",
       "      <td>Seizure</td>\n",
       "      <td>3</td>\n",
       "      <td>0</td>\n",
       "      <td>0</td>\n",
       "      <td>0</td>\n",
       "      <td>0</td>\n",
       "      <td>0</td>\n",
       "    </tr>\n",
       "    <tr>\n",
       "      <th>4</th>\n",
       "      <td>1628180742</td>\n",
       "      <td>4</td>\n",
       "      <td>24.0</td>\n",
       "      <td>353733</td>\n",
       "      <td>4</td>\n",
       "      <td>24.0</td>\n",
       "      <td>3080632009</td>\n",
       "      <td>42516</td>\n",
       "      <td>Seizure</td>\n",
       "      <td>3</td>\n",
       "      <td>0</td>\n",
       "      <td>0</td>\n",
       "      <td>0</td>\n",
       "      <td>0</td>\n",
       "      <td>0</td>\n",
       "    </tr>\n",
       "  </tbody>\n",
       "</table>\n",
       "</div>"
      ],
      "text/plain": [
       "       eeg_id  eeg_sub_id  eeg_label_offset_seconds  spectrogram_id  \\\n",
       "0  1628180742           0                       0.0          353733   \n",
       "1  1628180742           1                       6.0          353733   \n",
       "2  1628180742           2                       8.0          353733   \n",
       "3  1628180742           3                      18.0          353733   \n",
       "4  1628180742           4                      24.0          353733   \n",
       "\n",
       "   spectrogram_sub_id  spectrogram_label_offset_seconds    label_id  \\\n",
       "0                   0                               0.0   127492639   \n",
       "1                   1                               6.0  3887563113   \n",
       "2                   2                               8.0  1142670488   \n",
       "3                   3                              18.0  2718991173   \n",
       "4                   4                              24.0  3080632009   \n",
       "\n",
       "   patient_id expert_consensus  seizure_vote  lpd_vote  gpd_vote  lrda_vote  \\\n",
       "0       42516          Seizure             3         0         0          0   \n",
       "1       42516          Seizure             3         0         0          0   \n",
       "2       42516          Seizure             3         0         0          0   \n",
       "3       42516          Seizure             3         0         0          0   \n",
       "4       42516          Seizure             3         0         0          0   \n",
       "\n",
       "   grda_vote  other_vote  \n",
       "0          0           0  \n",
       "1          0           0  \n",
       "2          0           0  \n",
       "3          0           0  \n",
       "4          0           0  "
      ]
     },
     "execution_count": 5,
     "metadata": {},
     "output_type": "execute_result"
    }
   ],
   "source": [
    "# pre-processing\n",
    "# making the Y_train in a particular shape\n",
    "data = pd.read_csv(data_path + '/' + 'train.csv')\n",
    "data.head()"
   ]
  },
  {
   "cell_type": "code",
   "execution_count": 6,
   "id": "ae92a40e",
   "metadata": {},
   "outputs": [
    {
     "name": "stdout",
     "output_type": "stream",
     "text": [
      "17089\n",
      "17300\n"
     ]
    }
   ],
   "source": [
    "unique_eeg_id = np.unique(data['eeg_id'])\n",
    "common_eeg_id = []\n",
    "for i in range(len(unique_eeg_id)):\n",
    "    ID = unique_eeg_id[i]\n",
    "    if str(ID) + '.parquet' in eeg_file_list:\n",
    "        common_eeg_id.append(i)\n",
    "print(len(common_eeg_id))\n",
    "print(len(eeg_file_list))"
   ]
  },
  {
   "cell_type": "code",
   "execution_count": 7,
   "id": "b09a393f",
   "metadata": {},
   "outputs": [],
   "source": [
    "unique_eeg_id = np.unique(data['eeg_id'])\n",
    "var_of_interest = ['eeg_id','seizure_vote,''lpd_vote','gpd_vote','lrda_vote','grda_vote','other_vote']\n",
    "vote_vector = ['seizure_vote','lpd_vote','gpd_vote','lrda_vote','grda_vote','other_vote']\n",
    "n_disease = len(vote_vector)"
   ]
  },
  {
   "cell_type": "code",
   "execution_count": 8,
   "id": "e3b112f2",
   "metadata": {},
   "outputs": [],
   "source": [
    "def convert_to_one_hot(y_votes):\n",
    "    # Find the indices of max votes for each row (patient)\n",
    "    indices_of_max_votes = np.argmax(y_votes, axis=1)\n",
    "    \n",
    "    # Convert indices to one-hot encoded format\n",
    "    num_samples = y_votes.shape[0]\n",
    "    num_classes = y_votes.shape[1]\n",
    "    one_hot_encoded = np.zeros((num_samples, num_classes))\n",
    "    one_hot_encoded[np.arange(num_samples), indices_of_max_votes] = 1\n",
    "    \n",
    "    return one_hot_encoded"
   ]
  },
  {
   "cell_type": "code",
   "execution_count": 9,
   "id": "612d0491",
   "metadata": {},
   "outputs": [],
   "source": [
    "n_samples = 100  #len(unique_eeg_id)"
   ]
  },
  {
   "cell_type": "code",
   "execution_count": 10,
   "id": "10a8edd1",
   "metadata": {},
   "outputs": [
    {
     "name": "stdout",
     "output_type": "stream",
     "text": [
      "CPU times: user 848 ms, sys: 942 ms, total: 1.79 s\n",
      "Wall time: 1.83 s\n"
     ]
    }
   ],
   "source": [
    "%%time\n",
    "X = np.empty((0, min_time, n_graphs), float)\n",
    "Y = np.empty((0, n_disease), int)\n",
    "count = 0\n",
    "i = 0\n",
    "while count < n_samples:\n",
    "    ID = unique_eeg_id[i]\n",
    "    if str(ID) + '.parquet' in eeg_file_list:\n",
    "        filename = str(ID) + '.parquet'\n",
    "        df = pd.read_parquet(train_eeg_path + '/' + filename)\n",
    "        df_cropped = df[:min_time].to_numpy()\n",
    "        row_loc = data.index[data['eeg_id'] == ID][0]\n",
    "        vote_count = data.loc[row_loc,vote_vector]\n",
    "        vote_share = vote_count / sum(vote_count)\n",
    "        if np.sum(np.isnan(df_cropped.astype(float)), axis=(0,1)) == 0 and np.sum(np.isnan(vote_count.astype(float)), axis=0) == 0:\n",
    "            X = np.append(X, np.array([df_cropped]), axis=0)\n",
    "            Y = np.append(Y, np.array([vote_share]),axis=0)\n",
    "            count = count + 1\n",
    "    i = i + 1\n",
    "\n",
    "# Initialize and apply MinMaxScaler for reshaped dataset\n",
    "X_reshaped = X.reshape(-1, df.shape[-1])\n",
    "\n",
    "scaler = MinMaxScaler(feature_range=(0, 1))\n",
    "X_scaled = scaler.fit_transform(X_reshaped)\n",
    "\n",
    "# Reshape back to 3D (n_samples, n_time_steps, n_features)\n",
    "X_scaled_3d = X_scaled.reshape(X.shape)\n",
    "X = X_scaled_3d"
   ]
  },
  {
   "cell_type": "code",
   "execution_count": 11,
   "id": "11eb25b1",
   "metadata": {},
   "outputs": [
    {
     "name": "stdout",
     "output_type": "stream",
     "text": [
      "(100, 10000, 20)\n",
      "(100, 6)\n",
      "0\n",
      "0\n"
     ]
    }
   ],
   "source": [
    "print(X.shape)\n",
    "print(Y.shape)\n",
    "X = X.astype('float32')\n",
    "Y = Y.astype('float32')\n",
    "print(np.sum(np.isnan(X), axis=(0,1,2)))\n",
    "print(np.sum(np.isnan(Y), axis=(0,1)))"
   ]
  },
  {
   "cell_type": "code",
   "execution_count": 12,
   "id": "e171c4d4",
   "metadata": {},
   "outputs": [
    {
     "data": {
      "text/plain": [
       "array([1., 1., 1., 1., 1., 1., 1., 1., 1., 1., 1., 1., 1., 1., 1., 1., 1.,\n",
       "       1., 1., 1.], dtype=float32)"
      ]
     },
     "execution_count": 12,
     "metadata": {},
     "output_type": "execute_result"
    }
   ],
   "source": [
    "np.max(X, axis = (0,1))"
   ]
  },
  {
   "cell_type": "code",
   "execution_count": 13,
   "id": "3e672ece",
   "metadata": {},
   "outputs": [
    {
     "name": "stdout",
     "output_type": "stream",
     "text": [
      "One-hot encoded Y-values:\n",
      " [[0. 0. 0. 0. 0. 1.]\n",
      " [0. 1. 0. 0. 0. 0.]\n",
      " [0. 0. 0. 0. 0. 1.]\n",
      " [0. 0. 1. 0. 0. 0.]\n",
      " [0. 0. 0. 0. 0. 1.]\n",
      " [1. 0. 0. 0. 0. 0.]\n",
      " [0. 0. 0. 0. 0. 1.]\n",
      " [0. 0. 0. 0. 0. 1.]\n",
      " [0. 0. 0. 0. 0. 1.]\n",
      " [0. 0. 0. 0. 0. 1.]\n",
      " [0. 0. 0. 0. 0. 1.]\n",
      " [1. 0. 0. 0. 0. 0.]\n",
      " [0. 0. 0. 0. 0. 1.]\n",
      " [0. 0. 0. 1. 0. 0.]\n",
      " [0. 0. 0. 1. 0. 0.]\n",
      " [0. 1. 0. 0. 0. 0.]\n",
      " [0. 0. 1. 0. 0. 0.]\n",
      " [0. 0. 0. 0. 1. 0.]\n",
      " [0. 0. 0. 0. 0. 1.]\n",
      " [0. 1. 0. 0. 0. 0.]\n",
      " [0. 0. 0. 0. 1. 0.]\n",
      " [0. 1. 0. 0. 0. 0.]\n",
      " [0. 0. 0. 0. 0. 1.]\n",
      " [0. 0. 0. 0. 0. 1.]\n",
      " [0. 0. 0. 0. 0. 1.]\n",
      " [0. 0. 0. 0. 0. 1.]\n",
      " [0. 0. 0. 0. 0. 1.]\n",
      " [0. 0. 0. 0. 1. 0.]\n",
      " [1. 0. 0. 0. 0. 0.]\n",
      " [0. 0. 0. 1. 0. 0.]\n",
      " [0. 1. 0. 0. 0. 0.]\n",
      " [0. 0. 0. 0. 1. 0.]\n",
      " [0. 0. 0. 0. 0. 1.]\n",
      " [0. 0. 0. 0. 1. 0.]\n",
      " [0. 0. 0. 0. 0. 1.]\n",
      " [0. 0. 1. 0. 0. 0.]\n",
      " [1. 0. 0. 0. 0. 0.]\n",
      " [0. 0. 0. 0. 0. 1.]\n",
      " [0. 0. 0. 0. 1. 0.]\n",
      " [0. 0. 0. 0. 0. 1.]\n",
      " [0. 0. 0. 0. 1. 0.]\n",
      " [0. 0. 0. 0. 0. 1.]\n",
      " [0. 0. 0. 0. 0. 1.]\n",
      " [1. 0. 0. 0. 0. 0.]\n",
      " [1. 0. 0. 0. 0. 0.]\n",
      " [0. 0. 1. 0. 0. 0.]\n",
      " [1. 0. 0. 0. 0. 0.]\n",
      " [0. 0. 0. 0. 0. 1.]\n",
      " [0. 1. 0. 0. 0. 0.]\n",
      " [1. 0. 0. 0. 0. 0.]\n",
      " [0. 0. 0. 0. 0. 1.]\n",
      " [1. 0. 0. 0. 0. 0.]\n",
      " [1. 0. 0. 0. 0. 0.]\n",
      " [0. 0. 0. 0. 0. 1.]\n",
      " [0. 0. 0. 0. 0. 1.]\n",
      " [1. 0. 0. 0. 0. 0.]\n",
      " [0. 1. 0. 0. 0. 0.]\n",
      " [0. 0. 0. 0. 0. 1.]\n",
      " [0. 0. 0. 0. 0. 1.]\n",
      " [1. 0. 0. 0. 0. 0.]\n",
      " [0. 0. 0. 0. 1. 0.]\n",
      " [0. 0. 0. 0. 0. 1.]\n",
      " [0. 1. 0. 0. 0. 0.]\n",
      " [0. 0. 0. 0. 1. 0.]\n",
      " [0. 0. 0. 0. 0. 1.]\n",
      " [0. 0. 0. 0. 0. 1.]\n",
      " [0. 0. 0. 0. 0. 1.]\n",
      " [0. 0. 0. 0. 0. 1.]\n",
      " [1. 0. 0. 0. 0. 0.]\n",
      " [1. 0. 0. 0. 0. 0.]\n",
      " [0. 0. 0. 0. 0. 1.]\n",
      " [0. 0. 0. 0. 0. 1.]\n",
      " [1. 0. 0. 0. 0. 0.]\n",
      " [0. 0. 0. 0. 0. 1.]\n",
      " [0. 0. 0. 0. 0. 1.]\n",
      " [0. 0. 0. 1. 0. 0.]\n",
      " [0. 0. 0. 0. 0. 1.]\n",
      " [0. 0. 0. 0. 0. 1.]\n",
      " [0. 0. 0. 0. 0. 1.]\n",
      " [0. 0. 0. 0. 0. 1.]\n",
      " [0. 0. 0. 0. 0. 1.]\n",
      " [1. 0. 0. 0. 0. 0.]\n",
      " [0. 0. 0. 0. 0. 1.]\n",
      " [0. 1. 0. 0. 0. 0.]\n",
      " [1. 0. 0. 0. 0. 0.]\n",
      " [0. 0. 0. 0. 0. 1.]\n",
      " [0. 0. 0. 0. 0. 1.]\n",
      " [1. 0. 0. 0. 0. 0.]\n",
      " [0. 1. 0. 0. 0. 0.]\n",
      " [0. 0. 1. 0. 0. 0.]\n",
      " [0. 0. 0. 0. 0. 1.]\n",
      " [0. 1. 0. 0. 0. 0.]\n",
      " [0. 0. 0. 0. 0. 1.]\n",
      " [1. 0. 0. 0. 0. 0.]\n",
      " [1. 0. 0. 0. 0. 0.]\n",
      " [0. 0. 0. 0. 0. 1.]\n",
      " [0. 0. 1. 0. 0. 0.]\n",
      " [0. 1. 0. 0. 0. 0.]\n",
      " [0. 0. 0. 0. 0. 1.]\n",
      " [0. 0. 0. 0. 1. 0.]]\n"
     ]
    }
   ],
   "source": [
    "# One-hot encoding\n",
    "y_one_hot = convert_to_one_hot(Y)\n",
    "\n",
    "print(\"One-hot encoded Y-values:\\n\", y_one_hot)\n",
    "Y = y_one_hot"
   ]
  },
  {
   "cell_type": "code",
   "execution_count": 14,
   "id": "40455b4d",
   "metadata": {},
   "outputs": [],
   "source": [
    "# Splitting the data\n",
    "X_train, X_test, y_train, y_test = train_test_split(X, Y, test_size=0.2)"
   ]
  },
  {
   "cell_type": "code",
   "execution_count": 15,
   "id": "adf22237",
   "metadata": {},
   "outputs": [],
   "source": [
    "# Step 2: Building the LSTM Model\n",
    "model = Sequential()\n",
    "model.add(LSTM(64, return_sequences=True, input_shape=(X_train.shape[1], X_train.shape[2])))\n",
    "model.add(LSTM(64))\n",
    "model.add(Dense(6, activation='softmax'))\n",
    "\n",
    "# Compile the model\n",
    "model.compile(optimizer='adam', loss='categorical_crossentropy', metrics=['accuracy'])"
   ]
  },
  {
   "cell_type": "code",
   "execution_count": 16,
   "id": "d2e3f89e",
   "metadata": {},
   "outputs": [
    {
     "name": "stdout",
     "output_type": "stream",
     "text": [
      "Epoch 1/10\n",
      "2/2 [==============================] - 12s 6s/step - loss: 1.7457 - accuracy: 0.2031 - val_loss: 1.6979 - val_accuracy: 0.1250\n",
      "Epoch 2/10\n",
      "2/2 [==============================] - 14s 9s/step - loss: 1.6272 - accuracy: 0.2969 - val_loss: 1.5827 - val_accuracy: 0.5000\n",
      "Epoch 3/10\n",
      "2/2 [==============================] - 13s 5s/step - loss: 1.5338 - accuracy: 0.4375 - val_loss: 1.5127 - val_accuracy: 0.5000\n",
      "Epoch 4/10\n",
      "2/2 [==============================] - 15s 10s/step - loss: 1.4725 - accuracy: 0.4375 - val_loss: 1.5257 - val_accuracy: 0.5000\n",
      "Epoch 5/10\n",
      "2/2 [==============================] - 12s 7s/step - loss: 1.4861 - accuracy: 0.4375 - val_loss: 1.5656 - val_accuracy: 0.5000\n",
      "Epoch 6/10\n",
      "2/2 [==============================] - 10s 5s/step - loss: 1.4833 - accuracy: 0.4375 - val_loss: 1.5552 - val_accuracy: 0.5000\n",
      "Epoch 7/10\n",
      "2/2 [==============================] - 10s 5s/step - loss: 1.4696 - accuracy: 0.4375 - val_loss: 1.5397 - val_accuracy: 0.5000\n",
      "Epoch 8/10\n",
      "2/2 [==============================] - 16s 6s/step - loss: 1.4593 - accuracy: 0.4375 - val_loss: 1.5368 - val_accuracy: 0.5000\n",
      "Epoch 9/10\n",
      "2/2 [==============================] - 15s 6s/step - loss: 1.4570 - accuracy: 0.4375 - val_loss: 1.5256 - val_accuracy: 0.5000\n",
      "Epoch 10/10\n",
      "2/2 [==============================] - 11s 6s/step - loss: 1.4506 - accuracy: 0.4375 - val_loss: 1.5178 - val_accuracy: 0.5000\n",
      "1/1 [==============================] - 1s 926ms/step\n",
      "CPU times: user 2min 6s, sys: 7.45 s, total: 2min 14s\n",
      "Wall time: 2min 10s\n"
     ]
    }
   ],
   "source": [
    "%%time\n",
    "# Step 3: Training the Model\n",
    "model.fit(X_train, y_train, epochs=10, validation_split=0.2)  # original epoch=10\n",
    "\n",
    "# Step 4: Making Predictions\n",
    "predictions = model.predict(X_test)"
   ]
  },
  {
   "cell_type": "code",
   "execution_count": 17,
   "id": "3b153aa8",
   "metadata": {},
   "outputs": [
    {
     "data": {
      "text/plain": [
       "(array([0.25198907, 0.14489606, 0.03383675, 0.04627585, 0.10941901,\n",
       "        0.41447362], dtype=float32),\n",
       " array([0.2515143 , 0.14473267, 0.03370412, 0.0461162 , 0.10929359,\n",
       "        0.41371346], dtype=float32))"
      ]
     },
     "execution_count": 17,
     "metadata": {},
     "output_type": "execute_result"
    }
   ],
   "source": [
    "(np.max(predictions, axis=0), np.min(predictions, axis=0))"
   ]
  },
  {
   "cell_type": "code",
   "execution_count": 18,
   "id": "4deb3864",
   "metadata": {},
   "outputs": [
    {
     "data": {
      "text/plain": [
       "array([[0.25192586, 0.14486282, 0.03380812, 0.0462142 , 0.10937374,\n",
       "        0.41381517],\n",
       "       [0.25188294, 0.14484444, 0.03378657, 0.04618847, 0.10933685,\n",
       "        0.41396067],\n",
       "       [0.25189573, 0.14489606, 0.03380404, 0.04623157, 0.10937873,\n",
       "        0.41379395],\n",
       "       [0.2515143 , 0.14473267, 0.03378981, 0.04625406, 0.10941901,\n",
       "        0.4142902 ],\n",
       "       [0.2516178 , 0.14479472, 0.03370412, 0.0461162 , 0.10929359,\n",
       "        0.41447362],\n",
       "       [0.25177652, 0.14488521, 0.03383675, 0.04627585, 0.10940071,\n",
       "        0.4138249 ],\n",
       "       [0.25186563, 0.1448487 , 0.03380152, 0.0462072 , 0.10936482,\n",
       "        0.41391212],\n",
       "       [0.25190297, 0.14489146, 0.03382515, 0.04624064, 0.10939583,\n",
       "        0.41374397],\n",
       "       [0.25193143, 0.14488941, 0.03382585, 0.04624074, 0.10939914,\n",
       "        0.41371346],\n",
       "       [0.25188902, 0.1448654 , 0.0338122 , 0.04620683, 0.10939348,\n",
       "        0.4138331 ],\n",
       "       [0.2518895 , 0.14482866, 0.03378292, 0.04618658, 0.1093457 ,\n",
       "        0.41396663],\n",
       "       [0.25191474, 0.14487034, 0.03381753, 0.04622507, 0.10939461,\n",
       "        0.41377777],\n",
       "       [0.25179413, 0.14475037, 0.03375614, 0.04611781, 0.10931962,\n",
       "        0.4142619 ],\n",
       "       [0.25190112, 0.14486328, 0.03380518, 0.0462168 , 0.10936876,\n",
       "        0.41384482],\n",
       "       [0.25198907, 0.14486302, 0.03378991, 0.0461756 , 0.10935805,\n",
       "        0.4138244 ],\n",
       "       [0.2518814 , 0.14488183, 0.0338226 , 0.04623344, 0.10939969,\n",
       "        0.41378105],\n",
       "       [0.25187755, 0.14486495, 0.03380203, 0.04620877, 0.10937233,\n",
       "        0.41387448],\n",
       "       [0.25192612, 0.14489341, 0.03381786, 0.04622989, 0.10940602,\n",
       "        0.4137267 ],\n",
       "       [0.25188965, 0.14486864, 0.03380003, 0.04620776, 0.10937346,\n",
       "        0.4138605 ],\n",
       "       [0.25186405, 0.14487043, 0.03380092, 0.04620602, 0.10936865,\n",
       "        0.4138899 ]], dtype=float32)"
      ]
     },
     "execution_count": 18,
     "metadata": {},
     "output_type": "execute_result"
    }
   ],
   "source": [
    "predictions"
   ]
  },
  {
   "cell_type": "code",
   "execution_count": 19,
   "id": "f0e70de6",
   "metadata": {},
   "outputs": [
    {
     "data": {
      "text/plain": [
       "array([[0., 1., 0., 0., 0., 0.],\n",
       "       [0., 0., 0., 0., 1., 0.],\n",
       "       [0., 0., 0., 0., 0., 1.],\n",
       "       [0., 0., 0., 0., 0., 1.],\n",
       "       [1., 0., 0., 0., 0., 0.],\n",
       "       [0., 0., 0., 0., 0., 1.],\n",
       "       [0., 0., 0., 0., 1., 0.],\n",
       "       [0., 0., 0., 0., 1., 0.],\n",
       "       [0., 0., 1., 0., 0., 0.],\n",
       "       [0., 0., 1., 0., 0., 0.],\n",
       "       [0., 0., 0., 0., 0., 1.],\n",
       "       [0., 0., 0., 0., 0., 1.],\n",
       "       [0., 0., 0., 0., 0., 1.],\n",
       "       [0., 0., 0., 0., 0., 1.],\n",
       "       [0., 0., 1., 0., 0., 0.],\n",
       "       [0., 0., 0., 0., 0., 1.],\n",
       "       [0., 0., 0., 0., 0., 1.],\n",
       "       [0., 0., 0., 0., 0., 1.],\n",
       "       [0., 0., 0., 0., 0., 1.],\n",
       "       [0., 0., 0., 0., 0., 1.]])"
      ]
     },
     "execution_count": 19,
     "metadata": {},
     "output_type": "execute_result"
    }
   ],
   "source": [
    "y_test"
   ]
  },
  {
   "cell_type": "code",
   "execution_count": null,
   "id": "7c5df41a",
   "metadata": {},
   "outputs": [],
   "source": []
  }
 ],
 "metadata": {
  "kernelspec": {
   "display_name": "Python 3 (ipykernel)",
   "language": "python",
   "name": "python3"
  },
  "language_info": {
   "codemirror_mode": {
    "name": "ipython",
    "version": 3
   },
   "file_extension": ".py",
   "mimetype": "text/x-python",
   "name": "python",
   "nbconvert_exporter": "python",
   "pygments_lexer": "ipython3",
   "version": "3.11.0"
  }
 },
 "nbformat": 4,
 "nbformat_minor": 5
}
