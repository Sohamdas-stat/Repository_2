{
 "cells": [
  {
   "cell_type": "markdown",
   "id": "5f726fee",
   "metadata": {},
   "source": [
    "## Install packages"
   ]
  },
  {
   "cell_type": "code",
   "execution_count": 1,
   "id": "7223dcdd",
   "metadata": {},
   "outputs": [],
   "source": [
    "#!pip install --upgrade pip\n",
    "#!pip install Cython numpy\n",
    "#!pip install pystan"
   ]
  },
  {
   "cell_type": "code",
   "execution_count": 2,
   "id": "3a519349",
   "metadata": {},
   "outputs": [],
   "source": [
    "import numpy as np\n",
    "import pystan\n",
    "import matplotlib.pyplot as plt"
   ]
  },
  {
   "cell_type": "markdown",
   "id": "1c38571b",
   "metadata": {},
   "source": [
    "## Basic code structure"
   ]
  },
  {
   "cell_type": "markdown",
   "id": "cc166172",
   "metadata": {},
   "source": [
    "X = np.random.normal(loc=5, scale=1, size=1000)\n",
    "my_data = {'N': 1000, 'X': X}\n",
    "sm = pystan.StanModel(file='my_model.stan')\n",
    "fit = sm.sampling(data=my_data, iter=1000, chains=4)"
   ]
  },
  {
   "cell_type": "code",
   "execution_count": null,
   "id": "f2bfe43f",
   "metadata": {},
   "outputs": [
    {
     "name": "stderr",
     "output_type": "stream",
     "text": [
      "INFO:pystan:COMPILING THE C++ CODE FOR MODEL anon_model_8d53c3b1cf6cf7547b5a56e77bb1972d NOW.\n"
     ]
    }
   ],
   "source": [
    "y_fb = np.array([0,0,0,0,0,1,0,0,0,1,1,0,1,0,0,1,0,0,1,1,0,0,1,1,1,0,0,1,1,0,0,1,1,0,\n",
    "                 1,1,0,1,0,1,0,1,1,0,1,0,0,1,0,0,1,1,0,0,0,1,0,1,1,1,0,0,1,1,0,1,0,1,\n",
    "                 0,1,0,0,1,1,0,1,0,1,1,1,1,0,1,0,1,1,0,1,0,1,1,0,1,1,1,0,1,0,1,0])\n",
    "y_tw = np.array([1,1,0,0,0,1,0,0,0,1,0,0,0,1,0,0,0,1,1,0,0,0,1,0,0,0,1,0,1,0,0,1,0,1,\n",
    "                 0,0,1,0,0,1,1,0,0,1,1,0,0,0,1,1,0,0,0,1,1,0,0,0,1,0,1,0,0,1,0,0,0,1,\n",
    "                 0,0,0,1,0,1,0,0,1,0,0,0,0,0,1,0,0,1,0,0,1,0,0,1,0,0,0,0,1,0,0,1])\n",
    "data = {'y1':y_fb, 'y2':y_tw, 'n':len(y_fb)}\n",
    "sm = pystan.StanModel(file='model_01.stan')\n",
    "fit = sm.sampling(data=data, iter=1000, chains=4)"
   ]
  },
  {
   "cell_type": "code",
   "execution_count": null,
   "id": "e34566cb",
   "metadata": {},
   "outputs": [],
   "source": [
    "params = extract(fit)\n",
    "plot(density(params$theta1), xlim=c(0,1), lty=1)\n",
    "lines(density(params$theta2), lty=2)"
   ]
  }
 ],
 "metadata": {
  "kernelspec": {
   "display_name": "Python 3 (ipykernel)",
   "language": "python",
   "name": "python3"
  },
  "language_info": {
   "codemirror_mode": {
    "name": "ipython",
    "version": 3
   },
   "file_extension": ".py",
   "mimetype": "text/x-python",
   "name": "python",
   "nbconvert_exporter": "python",
   "pygments_lexer": "ipython3",
   "version": "3.11.0"
  }
 },
 "nbformat": 4,
 "nbformat_minor": 5
}
